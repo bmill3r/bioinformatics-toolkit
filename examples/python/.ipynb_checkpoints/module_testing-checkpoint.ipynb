{
 "cells": [
  {
   "cell_type": "markdown",
   "metadata": {},
   "source": [
    "# Bioinformatics Toolkit Module Testing Notebook\n",
    "\n",
    "This notebook provides a comprehensive testing framework for the different modules in the bioinformatics-toolkit. It allows testing each module independently and bypasses the s3_utils.py module by loading test data directly from scanpy's PBMC dataset.\n",
    "\n",
    "## Setup and Environment\n",
    "\n",
    "First, we'll set up the environment and import necessary libraries."
   ]
  },
  {
   "cell_type": "code",
   "execution_count": null,
   "metadata": {},
   "source": [
    "# Basic imports\n",
    "import sys\n",
    "import os\n",
    "import numpy as np\n",
    "import pandas as pd\n",
    "import matplotlib.pyplot as plt\n",
    "import seaborn as sns\n",
    "import scanpy as sc\n",
    "import anndata as ad\n",
    "\n",
    "# Set plotting style\n",
    "sc.settings.set_figure_params(dpi=100, facecolor='white')\n",
    "plt.rcParams['figure.figsize'] = (8, 6)\n",
    "\n",
    "# Ensure the repository is in the Python path\n",
    "# This assumes the notebook is running in the container with the repository mounted at /data/repo\n",
    "if '/data/repo' not in sys.path:\n",
    "    sys.path.append('/data/repo')\n",
    "\n",
    "# Import the bioinformatics toolkit modules\n",
    "from python.sctools import dim_reduction, feature_selection, geneset, normalization, qc, spatial, visualization\n",
    "\n",
    "# Print versions for reproducibility\n",
    "print(f\"Python version: {sys.version}\")\n",
    "print(f\"NumPy version: {np.__version__}\")\n",
    "print(f\"Pandas version: {pd.__version__}\")\n",
    "print(f\"ScanPy version: {sc.__version__}\")\n",
    "print(f\"AnnData version: {ad.__version__}\")"
   ]
  },
  {
   "cell_type": "markdown",
   "metadata": {},
   "source": [
    "## Loading Test Data\n",
    "\n",
    "Instead of using the s3_utils.py module, we'll load the PBMC test dataset directly from scanpy."
   ]
  },
  {
   "cell_type": "code",
   "execution_count": null,
   "metadata": {},
   "source": [
    "# Load the PBMC dataset from scanpy\n",
    "adata = sc.datasets.pbmc3k()\n",
    "\n",
    "# Basic information about the dataset\n",
    "print(f\"Dataset shape: {adata.shape}\")\n",
    "print(f\"Number of cells: {adata.n_obs}\")\n",
    "print(f\"Number of genes: {adata.n_vars}\")\n",
    "\n",
    "# Show the AnnData object\n",
    "print(\"\\nAnnData object:\")\n",
    "print(adata)\n",
    "\n",
    "# Save a copy of the original data for comparison\n",
    "adata_orig = adata.copy()"
   ]
  },
  {
   "cell_type": "markdown",
   "metadata": {},
   "source": [
    "## Module 1: Quality Control (QC)\n",
    "\n",
    "Test the QC module functionality for single-cell data."
   ]
  },
  {
   "cell_type": "code",
   "execution_count": null,
   "metadata": {},
   "source": [
    "# Reset to original data\n",
    "adata = adata_orig.copy()\n",
    "\n",
    "# Calculate QC metrics\n",
    "qc.calculate_qc_metrics(adata)\n",
    "\n",
    "# Show QC metrics\n",
    "print(\"QC metrics in obs:\")\n",
    "print(adata.obs.filter(regex='n_genes|n_counts|percent').head())\n",
    "\n",
    "# Plot QC metrics\n",
    "fig, axs = plt.subplots(1, 3, figsize=(18, 5))\n",
    "sns.histplot(adata.obs['n_genes_by_counts'], kde=True, ax=axs[0])\n",
    "axs[0].set_title('Number of genes')\n",
    "sns.histplot(adata.obs['total_counts'], kde=True, ax=axs[1])\n",
    "axs[1].set_title('Total counts')\n",
    "sns.histplot(adata.obs['pct_counts_mt'], kde=True, ax=axs[2])\n",
    "axs[2].set_title('Percent mitochondrial')\n",
    "plt.tight_layout()\n",
    "plt.show()\n",
    "\n",
    "# Filter cells based on QC metrics\n",
    "qc_filtered = qc.filter_cells(\n",
    "    adata,\n",
    "    min_genes=200,\n",
    "    max_genes=2500,\n",
    "    min_counts=500,\n",
    "    max_counts=20000,\n",
    "    max_pct_mt=5\n",
    ")\n",
    "\n",
    "print(f\"Original number of cells: {adata.n_obs}\")\n",
    "print(f\"Number of cells after QC filtering: {qc_filtered.n_obs}\")\n",
    "print(f\"Percentage of cells retained: {qc_filtered.n_obs/adata.n_obs*100:.2f}%\")"
   ]
  },
  {
   "cell_type": "markdown",
   "metadata": {},
   "source": [
    "## Module 2: Normalization\n",
    "\n",
    "Test the normalization module functionality."
   ]
  },
  {
   "cell_type": "code",
   "execution_count": null,
   "metadata": {},
   "source": [
    "# Reset to QC filtered data\n",
    "adata = qc_filtered.copy()\n",
    "\n",
    "# Apply normalization\n",
    "print(\"Before normalization:\")\n",
    "print(f\"Mean counts per cell: {adata.X.mean():.2f}\")\n",
    "print(f\"Standard deviation: {adata.X.std():.2f}\")\n",
    "\n",
    "# Test different normalization methods\n",
    "methods = ['log1p', 'scran', 'scran_pearson']\n",
    "for method in methods:\n",
    "    try:\n",
    "        print(f\"\\nApplying {method} normalization...\")\n",
    "        adata_norm = normalization.normalize_data(adata.copy(), method=method)\n",
    "        print(f\"After {method} normalization:\")\n",
    "        print(f\"Mean: {adata_norm.X.mean():.2f}\")\n",
    "        print(f\"Standard deviation: {adata_norm.X.std():.2f}\")\n",
    "    except Exception as e:\n",
    "        print(f\"Error with {method} normalization: {e}\")\n",
    "\n",
    "# Continue with log1p normalized data\n",
    "adata_norm = normalization.normalize_data(adata, method='log1p')\n",
    "adata = adata_norm.copy()"
   ]
  },
  {
   "cell_type": "markdown",
   "metadata": {},
   "source": [
    "## Module 3: Feature Selection\n",
    "\n",
    "Test the feature selection module functionality."
   ]
  },
  {
   "cell_type": "code",
   "execution_count": null,
   "metadata": {},
   "source": [
    "# Test highly variable gene selection\n",
    "print(\"Selecting highly variable genes...\")\n",
    "adata_hvg = feature_selection.find_variable_genes(adata.copy(), n_top_genes=2000)\n",
    "\n",
    "# Plot variable genes\n",
    "sc.pl.highly_variable_genes(adata_hvg)\n",
    "\n",
    "print(f\"Number of highly variable genes selected: {adata_hvg.var['highly_variable'].sum()}\")\n",
    "\n",
    "# Test other feature selection methods if available\n",
    "try:\n",
    "    print(\"\\nSelecting genes by variance...\")\n",
    "    adata_var = feature_selection.select_genes_by_variance(adata.copy(), n_top_genes=2000)\n",
    "    print(f\"Number of genes selected by variance: {adata_var.var['selected'].sum() if 'selected' in adata_var.var else 'N/A'}\")\n",
    "except Exception as e:\n",
    "    print(f\"Error with variance-based selection: {e}\")\n",
    "\n",
    "# Continue with HVG data\n",
    "adata = adata_hvg.copy()"
   ]
  },
  {
   "cell_type": "markdown",
   "metadata": {},
   "source": [
    "## Module 4: Dimension Reduction\n",
    "\n",
    "Test the dimension reduction module functionality."
   ]
  },
  {
   "cell_type": "code",
   "execution_count": null,
   "metadata": {},
   "source": [
    "# Test PCA\n",
    "print(\"Running PCA...\")\n",
    "adata_pca = dim_reduction.run_pca(adata.copy(), n_comps=50)\n",
    "print(f\"PCA components shape: {adata_pca.obsm['X_pca'].shape}\")\n",
    "\n",
    "# Plot PCA\n",
    "sc.pl.pca(adata_pca, color='total_counts')\n",
    "\n",
    "# Test UMAP\n",
    "print(\"\\nRunning UMAP...\")\n",
    "adata_umap = dim_reduction.run_umap(adata_pca.copy())\n",
    "print(f\"UMAP coordinates shape: {adata_umap.obsm['X_umap'].shape}\")\n",
    "\n",
    "# Plot UMAP\n",
    "sc.pl.umap(adata_umap, color=['total_counts', 'n_genes_by_counts'])\n",
    "\n",
    "# Test t-SNE\n",
    "print(\"\\nRunning t-SNE...\")\n",
    "try:\n",
    "    adata_tsne = dim_reduction.run_tsne(adata_pca.copy())\n",
    "    print(f\"t-SNE coordinates shape: {adata_tsne.obsm['X_tsne'].shape}\")\n",
    "    sc.pl.tsne(adata_tsne, color=['total_counts', 'n_genes_by_counts'])\n",
    "except Exception as e:\n",
    "    print(f\"Error running t-SNE: {e}\")\n",
    "\n",
    "# Continue with the UMAP data\n",
    "adata = adata_umap.copy()"
   ]
  }
 ],
 "metadata": {
  "kernelspec": {
   "display_name": "Python 3",
   "language": "python",
   "name": "python3"
  },
  "language_info": {
   "codemirror_mode": {
    "name": "ipython",
    "version": 3
   },
   "file_extension": ".py",
   "mimetype": "text/x-python",
   "name": "python",
   "nbconvert_exporter": "python",
   "pygments_lexer": "ipython3",
   "version": "3.10.0"
  }
 },
 "nbformat": 4,
 "nbformat_minor": 4
}
