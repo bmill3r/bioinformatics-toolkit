{
 "cells": [
  {
   "cell_type": "markdown",
   "metadata": {},
   "source": [
    "# Bioinformatics Toolkit Module Testing Notebook - Part 2\n",
    "\n",
    "This notebook continues the testing of the bioinformatics-toolkit modules."
   ]
  },
  {
   "cell_type": "code",
   "execution_count": null,
   "metadata": {},
   "source": [
    "# Basic imports (same as part 1)\n",
    "import sys\n",
    "import os\n",
    "import numpy as np\n",
    "import pandas as pd\n",
    "import matplotlib.pyplot as plt\n",
    "import seaborn as sns\n",
    "import scanpy as sc\n",
    "import anndata as ad\n",
    "\n",
    "# Set plotting style\n",
    "sc.settings.set_figure_params(dpi=100, facecolor='white')\n",
    "plt.rcParams['figure.figsize'] = (8, 6)\n",
    "\n",
    "# Ensure the repository is in the Python path\n",
    "if '/data/repo' not in sys.path:\n",
    "    sys.path.append('/data/repo')\n",
    "\n",
    "# Import the bioinformatics toolkit modules\n",
    "from python.sctools import dim_reduction, feature_selection, geneset, normalization, qc, spatial, visualization\n",
    "\n",
    "# Load the processed data from part 1 or reload the PBMC dataset\n",
    "try:\n",
    "    # Try to load from previous notebook if available\n",
    "    adata = sc.read('/tmp/adata_processed.h5ad')\n",
    "    print(\"Loaded processed data from previous notebook\")\n",
    "except FileNotFoundError:\n",
    "    # Otherwise reload and process the data\n",
    "    print(\"Processing data from scratch...\")\n",
    "    adata = sc.datasets.pbmc3k()\n",
    "    qc.calculate_qc_metrics(adata)\n",
    "    adata = qc.filter_cells(adata, min_genes=200, max_genes=2500, min_counts=500, max_counts=20000, max_pct_mt=5)\n",
    "    adata = normalization.normalize_data(adata, method='log1p')\n",
    "    adata = feature_selection.find_variable_genes(adata, n_top_genes=2000)"
   ]
  },
  {
   "cell_type": "markdown",
   "metadata": {},
   "source": [
    "## Module 5: Clustering\n",
    "\n",
    "Test the clustering functionality (typically part of the dim_reduction module)."
   ]
  },
  {
   "cell_type": "code",
   "execution_count": null,
   "metadata": {},
   "source": [
    "# Test Leiden clustering\n",
    "print(\"Running Leiden clustering...\")\n",
    "try:\n",
    "    adata_leiden = dim_reduction.run_clustering(adata.copy(), method='leiden', resolution=0.8)\n",
    "    print(f\"Number of Leiden clusters: {len(adata_leiden.obs['leiden'].unique())}\")\n",
    "    sc.pl.umap(adata_leiden, color='leiden', legend_loc='on data')\n",
    "except Exception as e:\n",
    "    print(f\"Error running Leiden clustering: {e}\")\n",
    "\n",
    "# Test Louvain clustering\n",
    "print(\"\\nRunning Louvain clustering...\")\n",
    "try:\n",
    "    adata_louvain = dim_reduction.run_clustering(adata.copy(), method='louvain', resolution=0.8)\n",
    "    print(f\"Number of Louvain clusters: {len(adata_louvain.obs['louvain'].unique())}\")\n",
    "    sc.pl.umap(adata_louvain, color='louvain', legend_loc='on data')\n",
    "except Exception as e:\n",
    "    print(f\"Error running Louvain clustering: {e}\")\n",
    "\n",
    "# Continue with the Leiden clustered data if available, otherwise use Louvain\n",
    "if 'adata_leiden' in locals():\n",
    "    adata = adata_leiden.copy()\n",
    "elif 'adata_louvain' in locals():\n",
    "    adata = adata_louvain.copy()"
   ]
  },
  {
   "cell_type": "markdown",
   "metadata": {},
   "source": [
    "## Module 6: Gene Set Analysis\n",
    "\n",
    "Test the geneset module functionality."
   ]
  },
  {
   "cell_type": "code",
   "execution_count": null,
   "metadata": {},
   "source": [
    "# Test marker gene identification\n",
    "print(\"Finding marker genes...\")\n",
    "try:\n",
    "    if 'leiden' in adata.obs.columns:\n",
    "        cluster_key = 'leiden'\n",
    "    elif 'louvain' in adata.obs.columns:\n",
    "        cluster_key = 'louvain'\n",
    "    else:\n",
    "        raise ValueError(\"No clustering results found\")\n",
    "        \n",
    "    markers = geneset.find_markers(adata, groupby=cluster_key, method='wilcoxon')\n",
    "    print(f\"Found {len(markers)} marker genes\")\n",
    "    print(\"Top markers per cluster:\")\n",
    "    print(markers.head(10))\n",
    "    \n",
    "    # Plot top markers\n",
    "    sc.pl.rank_genes_groups(adata, n_genes=5, sharey=False)\n",
    "    \n",
    "    # Test gene set enrichment if available\n",
    "    print(\"\\nRunning gene set enrichment analysis...\")\n",
    "    try:\n",
    "        enrichment = geneset.run_enrichment(markers, organism='human')\n",
    "        print(\"Enrichment results:\")\n",
    "        print(enrichment.head(10))\n",
    "    except Exception as e:\n",
    "        print(f\"Error running enrichment analysis: {e}\")\n",
    "        \n",
    "except Exception as e:\n",
    "    print(f\"Error finding marker genes: {e}\")"
   ]
  },
  {
   "cell_type": "markdown",
   "metadata": {},
   "source": [
    "## Module 7: Visualization\n",
    "\n",
    "Test the visualization module functionality."
   ]
  },
  {
   "cell_type": "code",
   "execution_count": null,
   "metadata": {},
   "source": [
    "# Test various visualization functions\n",
    "print(\"Testing visualization module...\")\n",
    "\n",
    "# Test UMAP visualization with custom parameters\n",
    "try:\n",
    "    print(\"\\nCustom UMAP visualization...\")\n",
    "    fig = visualization.plot_embedding(adata, basis='umap', color=['total_counts', 'n_genes_by_counts'], \n",
    "                                      size=50, alpha=0.8, return_fig=True)\n",
    "    plt.show()\n",
    "except Exception as e:\n",
    "    print(f\"Error with custom UMAP visualization: {e}\")\n",
    "\n",
    "# Test heatmap visualization\n",
    "try:\n",
    "    print(\"\\nHeatmap visualization...\")\n",
    "    if 'rank_genes_groups' in adata.uns:\n",
    "        visualization.plot_heatmap(adata, n_genes=10, groupby=cluster_key, \n",
    "                                  show_gene_labels=True, dendrogram=True)\n",
    "    else:\n",
    "        print(\"No marker genes found for heatmap visualization\")\n",
    "except Exception as e:\n",
    "    print(f\"Error with heatmap visualization: {e}\")\n",
    "\n",
    "# Test dot plot visualization\n",
    "try:\n",
    "    print(\"\\nDot plot visualization...\")\n",
    "    if 'rank_genes_groups' in adata.uns:\n",
    "        visualization.plot_dotplot(adata, n_genes=5, groupby=cluster_key)\n",
    "    else:\n",
    "        print(\"No marker genes found for dot plot visualization\")\n",
    "except Exception as e:\n",
    "    print(f\"Error with dot plot visualization: {e}\")"
   ]
  },
  {
   "cell_type": "markdown",
   "metadata": {},
   "source": [
    "## Module 8: Spatial Analysis (if applicable)\n",
    "\n",
    "Test the spatial module functionality if spatial data is available."
   ]
  },
  {
   "cell_type": "code",
   "execution_count": null,
   "metadata": {},
   "source": [
    "# Check if we can load a spatial dataset for testing\n",
    "print(\"Testing spatial module...\")\n",
    "try:\n",
    "    # Try to load a sample spatial dataset\n",
    "    spatial_adata = sc.datasets.visium_sge()\n",
    "    print(f\"Loaded spatial dataset with shape: {spatial_adata.shape}\")\n",
    "    \n",
    "    # Test spatial preprocessing\n",
    "    print(\"\\nRunning spatial preprocessing...\")\n",
    "    spatial_adata = spatial.preprocess_spatial(spatial_adata)\n",
    "    \n",
    "    # Test spatial visualization\n",
    "    print(\"\\nSpatial visualization...\")\n",
    "    spatial.plot_spatial(spatial_adata, color=['total_counts'])\n",
    "    \n",
    "    # Test spatial statistics\n",
    "    print(\"\\nCalculating spatial statistics...\")\n",
    "    spatial_adata = spatial.calculate_spatial_metrics(spatial_adata)\n",
    "    print(\"Spatial metrics calculated\")\n",
    "    \n",
    "except Exception as e:\n",
    "    print(f\"Error testing spatial module: {e}\")\n",
    "    print(\"Spatial testing skipped - no suitable dataset available\")"
   ]
  },
  {
   "cell_type": "markdown",
   "metadata": {},
   "source": [
    "## Summary and Saving Results\n",
    "\n",
    "Summarize the testing results and save the processed data."
   ]
  },
  {
   "cell_type": "code",
   "execution_count": null,
   "metadata": {},
   "source": [
    "# Save the processed data\n",
    "print(\"Saving processed data...\")\n",
    "try:\n",
    "    adata.write('/tmp/adata_processed.h5ad')\n",
    "    print(\"Data saved successfully to /tmp/adata_processed.h5ad\")\n",
    "    \n",
    "    if 'spatial_adata' in locals():\n",
    "        spatial_adata.write('/tmp/spatial_adata_processed.h5ad')\n",
    "        print(\"Spatial data saved successfully to /tmp/spatial_adata_processed.h5ad\")\n",
    "except Exception as e:\n",
    "    print(f\"Error saving data: {e}\")\n",
    "\n",
    "# Print summary of testing\n",
    "print(\"\\n==== Testing Summary ====\\n\")\n",
    "print(f\"Data shape: {adata.shape}\")\n",
    "print(f\"Layers available: {list(adata.layers.keys()) if adata.layers else 'None'}\")\n",
    "print(f\"Embeddings available: {list(adata.obsm.keys())}\")\n",
    "print(f\"Observation annotations: {list(adata.obs.columns)}\")\n",
    "print(f\"Variable annotations: {list(adata.var.columns)}\")\n",
    "print(\"\\nTesting complete!\")"
   ]
  }
 ],
 "metadata": {
  "kernelspec": {
   "display_name": "Python 3",
   "language": "python",
   "name": "python3"
  },
  "language_info": {
   "codemirror_mode": {
    "name": "ipython",
    "version": 3
   },
   "file_extension": ".py",
   "mimetype": "text/x-python",
   "name": "python",
   "nbconvert_exporter": "python",
   "pygments_lexer": "ipython3",
   "version": "3.10.0"
  }
 },
 "nbformat": 4,
 "nbformat_minor": 4
}
