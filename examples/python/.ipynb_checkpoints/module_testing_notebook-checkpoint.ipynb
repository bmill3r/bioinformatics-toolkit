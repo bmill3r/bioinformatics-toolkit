{
 "cells": [
  {
   "cell_type": "markdown",
   "metadata": {},
   "source": [
    "# Bioinformatics Toolkit Module Testing Notebook\n",
    "\n",
    "This notebook provides a comprehensive testing framework for the different modules in the bioinformatics-toolkit. It allows testing each module independently and bypasses the s3_utils.py module by loading test data directly from scanpy's PBMC dataset.\n",
    "\n",
    "## Setup and Environment\n",
    "\n",
    "First, we'll set up the environment and import necessary libraries."
   ]
  },
  {
   "cell_type": "code",
   "execution_count": null,
   "metadata": {},
   "source": [
    "# Basic imports\n",
    "import sys\n",
    "import os\n",
    "import numpy as np\n",
    "import pandas as pd\n",
    "import matplotlib.pyplot as plt\n",
    "import seaborn as sns\n",
    "import scanpy as sc\n",
    "import anndata as ad\n",
    "\n",
    "# Set plotting style\n",
    "sc.settings.set_figure_params(dpi=100, facecolor='white')\n",
    "plt.rcParams['figure.figsize'] = (8, 6)\n",
    "\n",
    "# Ensure the repository is in the Python path\n",
    "# This assumes the notebook is running in the container with the repository mounted at /data/repo\n",
    "if '/data/repo' not in sys.path:\n",
    "    sys.path.append('/data/repo')\n",
    "\n",
    "# Import the bioinformatics toolkit modules\n",
    "from python.sctools import dim_reduction, feature_selection, geneset, normalization, qc, spatial, visualization\n",
    "\n",
    "# Print versions for reproducibility\n",
    "print(f\"Python version: {sys.version}\")\n",
    "print(f\"NumPy version: {np.__version__}\")\n",
    "print(f\"Pandas version: {pd.__version__}\")\n",
    "print(f\"ScanPy version: {sc.__version__}\")\n",
    "print(f\"AnnData version: {ad.__version__}\")"
   ]
  },
  {
   "cell_type": "markdown",
   "metadata": {},
   "source": [
    "## Loading Test Data\n",
    "\n",
    "Instead of using the s3_utils.py module, we'll load the PBMC test dataset directly from scanpy."
   ]
  },
  {
   "cell_type": "code",
   "execution_count": null,
   "metadata": {},
   "source": [
    "# Load the PBMC dataset from scanpy\n",
    "adata = sc.datasets.pbmc3k()\n",
    "\n",
    "# Basic information about the dataset\n",
    "print(f\"Dataset shape: {adata.shape}\")\n",
    "print(f\"Number of cells: {adata.n_obs}\")\n",
    "print(f\"Number of genes: {adata.n_vars}\")\n",
    "\n",
    "# Show the AnnData object\n",
    "print(\"\\nAnnData object:\")\n",
    "print(adata)\n",
    "\n",
    "# Save a copy of the original data for comparison\n",
    "adata_orig = adata.copy()"
   ]
  },
  {
   "cell_type": "markdown",
   "metadata": {},
   "source": [
    "## Module 1: Quality Control (QC)\n",
    "\n",
    "Test the QC module functionality for single-cell data."
   ]
  },
  {
   "cell_type": "code",
   "execution_count": null,
   "metadata": {},
   "source": [
    "# Reset to original data\n",
    "adata = adata_orig.copy()\n",
    "\n",
    "# Calculate QC metrics\n",
    "qc.calculate_qc_metrics(adata)\n",
    "\n",
    "# Show QC metrics\n",
    "print(\"QC metrics in obs:\")\n",
    "print(adata.obs.filter(regex='n_genes|n_counts|percent').head())\n",
    "\n",
    "# Plot QC metrics\n",
    "fig, axs = plt.subplots(1, 3, figsize=(18, 5))\n",
    "sns.histplot(adata.obs['n_genes_by_counts'], kde=True, ax=axs[0])\n",
    "axs[0].set_title('Number of genes')\n",
    "sns.histplot(adata.obs['total_counts'], kde=True, ax=axs[1])\n",
    "axs[1].set_title('Total counts')\n",
    "sns.histplot(adata.obs['pct_counts_mt'], kde=True, ax=axs[2])\n",
    "axs[2].set_title('Percent mitochondrial')\n",
    "plt.tight_layout()\n",
    "plt.show()\n",
    "\n",
    "# Filter cells based on QC metrics\n",
    "qc_filtered = qc.filter_cells(\n",
    "    adata,\n",
    "    min_genes=200,\n",
    "    max_genes=2500,\n",
    "    min_counts=500,\n",
    "    max_counts=20000,\n",
    "    max_pct_mt=5\n",
    ")\n",
    "\n",
    "print(f\"Original number of cells: {adata.n_obs}\")\n",
    "print(f\"Number of cells after QC filtering: {qc_filtered.n_obs}\")\n",
    "print(f\"Percentage of cells retained: {qc_filtered.n_obs/adata.n_obs*100:.2f}%\")"
   ]
  },
  {
   "cell_type": "markdown",
   "metadata": {},
   "source": [
    "## Module 2: Normalization\n",
    "\n",
    "Test the normalization module functionality."
   ]
  },
  {
   "cell_type": "code",
   "execution_count": null,
   "metadata": {},
   "source": [
    "# Reset to QC filtered data\n",
    "adata = qc_filtered.copy()\n",
    "\n",
    "# Apply normalization\n",
    "print(\"Before normalization:\")\n",
    "print(f\"Mean counts per cell: {adata.X.mean():.2f}\")\n",
    "print(f\"Standard deviation: {adata.X.std():.2f}\")\n",
    "\n",
    "# Test different normalization methods\n",
    "methods = ['log1p', 'scran', 'scran_pearson']\n",
    "for method in methods:\n",
    "    try:\n",
    "        print(f\"\\nApplying {method} normalization...\")\n",
    "        adata_norm = normalization.normalize_data(adata.copy(), method=method)\n",
    "        print(f\"After {method} normalization:\")\n",
    "        print(f\"Mean: {adata_norm.X.mean():.2f}\")\n",
    "        print(f\"Standard deviation: {adata_norm.X.std():.2f}\")\n",
    "    except Exception as e:\n",
    "        print(f\"Error with {method} normalization: {e}\")\n",
    "\n",
    "# Continue with log1p normalized data\n",
    "adata_norm = normalization.normalize_data(adata, method='log1p')\n",
    "adata = adata_norm.copy()"
   ]
  },
  {
   "cell_type": "markdown",
   "metadata": {},
   "source": [
    "## Module 3: Feature Selection\n",
    "\n",
    "Test the feature selection module functionality."
   ]
  },
  {
   "cell_type": "code",
   "execution_count": null,
   "metadata": {},
   "source": [
    "# Test highly variable gene selection\n",
    "print(\"Selecting highly variable genes...\")\n",
    "adata_hvg = feature_selection.find_variable_genes(adata.copy(), n_top_genes=2000)\n",
    "\n",
    "# Plot variable genes\n",
    "sc.pl.highly_variable_genes(adata_hvg)\n",
    "\n",
    "print(f\"Number of highly variable genes selected: {adata_hvg.var['highly_variable'].sum()}\")\n",
    "\n",
    "# Test other feature selection methods if available\n",
    "try:\n",
    "    print(\"\\nSelecting genes by variance...\")\n",
    "    adata_var = feature_selection.select_genes_by_variance(adata.copy(), n_top_genes=2000)\n",
    "    print(f\"Number of genes selected by variance: {adata_var.var['selected'].sum() if 'selected' in adata_var.var else 'N/A'}\")\n",
    "except Exception as e:\n",
    "    print(f\"Error with variance-based selection: {e}\")\n",
    "\n",
    "# Continue with HVG data\n",
    "adata = adata_hvg.copy()"
   ]
  },
  {
   "cell_type": "markdown",
   "metadata": {},
   "source": [
    "## Module 4: Dimension Reduction\n",
    "\n",
    "Test the dimension reduction module functionality."
   ]
  },
  {
   "cell_type": "code",
   "execution_count": null,
   "metadata": {},
   "source": [
    "# Test PCA\n",
    "print(\"Running PCA...\")\n",
    "adata_pca = dim_reduction.run_pca(adata.copy(), n_comps=50)\n",
    "print(f\"PCA components shape: {adata_pca.obsm['X_pca'].shape}\")\n",
    "\n",
    "# Plot PCA\n",
    "sc.pl.pca(adata_pca, color='total_counts')\n",
    "\n",
    "# Test UMAP\n",
    "print(\"\\nRunning UMAP...\")\n",
    "adata_umap = dim_reduction.run_umap(adata_pca.copy())\n",
    "print(f\"UMAP coordinates shape: {adata_umap.obsm['X_umap'].shape}\")\n",
    "\n",
    "# Plot UMAP\n",
    "sc.pl.umap(adata_umap, color=['total_counts', 'n_genes_by_counts'])\n",
    "\n",
    "# Test t-SNE\n",
    "print(\"\\nRunning t-SNE...\")\n",
    "try:\n",
    "    adata_tsne = dim_reduction.run_tsne(adata_pca.copy())\n",
    "    print(f\"t-SNE coordinates shape: {adata_tsne.obsm['X_tsne'].shape}\")\n",
    "    sc.pl.tsne(adata_tsne, color=['total_counts', 'n_genes_by_counts'])\n",
    "except Exception as e:\n",
    "    print(f\"Error running t-SNE: {e}\")\n",
    "\n",
    "# Continue with the UMAP data\n",
    "adata = adata_umap.copy()"
   ]
  },
  {
   "cell_type": "markdown",
   "metadata": {},
   "source": [
    "## Module 5: Clustering\n",
    "\n",
    "Test the clustering functionality (typically part of the dim_reduction module)."
   ]
  },
  {
   "cell_type": "code",
   "execution_count": null,
   "metadata": {},
   "source": [
    "# Test Leiden clustering\n",
    "print(\"Running Leiden clustering...\")\n",
    "try:\n",
    "    adata_leiden = dim_reduction.run_clustering(adata.copy(), method='leiden', resolution=0.8)\n",
    "    print(f\"Number of Leiden clusters: {len(adata_leiden.obs['leiden'].unique())}\")\n",
    "    sc.pl.umap(adata_leiden, color='leiden', legend_loc='on data')\n",
    "except Exception as e:\n",
    "    print(f\"Error running Leiden clustering: {e}\")\n",
    "\n",
    "# Test Louvain clustering\n",
    "print(\"\\nRunning Louvain clustering...\")\n",
    "try:\n",
    "    adata_louvain = dim_reduction.run_clustering(adata.copy(), method='louvain', resolution=0.8)\n",
    "    print(f\"Number of Louvain clusters: {len(adata_louvain.obs['louvain'].unique())}\")\n",
    "    sc.pl.umap(adata_louvain, color='louvain', legend_loc='on data')\n",
    "except Exception as e:\n",
    "    print(f\"Error running Louvain clustering: {e}\")\n",
    "\n",
    "# Continue with the Leiden clustered data if available, otherwise use Louvain\n",
    "if 'adata_leiden' in locals():\n",
    "    adata = adata_leiden.copy()\n",
    "elif 'adata_louvain' in locals():\n",
    "    adata = adata_louvain.copy()"
   ]
  },
  {
   "cell_type": "markdown",
   "metadata": {},
   "source": [
    "## Module 6: Gene Set Analysis\n",
    "\n",
    "Test the geneset module functionality."
   ]
  },
  {
   "cell_type": "code",
   "execution_count": null,
   "metadata": {},
   "source": [
    "# Test marker gene identification\n",
    "print(\"Finding marker genes...\")\n",
    "try:\n",
    "    if 'leiden' in adata.obs.columns:\n",
    "        cluster_key = 'leiden'\n",
    "    elif 'louvain' in adata.obs.columns:\n",
    "        cluster_key = 'louvain'\n",
    "    else:\n",
    "        raise ValueError(\"No clustering results found\")\n",
    "        \n",
    "    markers = geneset.find_markers(adata, groupby=cluster_key, method='wilcoxon')\n",
    "    print(f\"Found {len(markers)} marker genes\")\n",
    "    print(\"Top markers per cluster:\")\n",
    "    print(markers.head(10))\n",
    "    \n",
    "    # Plot top markers\n",
    "    sc.pl.rank_genes_groups(adata, n_genes=5, sharey=False)\n",
    "    \n",
    "    # Test gene set enrichment if available\n",
    "    print(\"\\nRunning gene set enrichment analysis...\")\n",
    "    try:\n",
    "        enrichment = geneset.run_enrichment(markers, organism='human')\n",
    "        print(\"Enrichment results:\")\n",
    "        print(enrichment.head(10))\n",
    "    except Exception as e:\n",
    "        print(f\"Error running enrichment analysis: {e}\")\n",
    "        \n",
    "except Exception as e:\n",
    "    print(f\"Error finding marker genes: {e}\")"
   ]
  },
  {
   "cell_type": "markdown",
   "metadata": {},
   "source": [
    "## Module 7: Visualization\n",
    "\n",
    "Test the visualization module functionality."
   ]
  },
  {
   "cell_type": "code",
   "execution_count": null,
   "metadata": {},
   "source": [
    "# Test various visualization functions\n",
    "print(\"Testing visualization module...\")\n",
    "\n",
    "# Test UMAP visualization with custom parameters\n",
    "try:\n",
    "    print(\"\\nCustom UMAP visualization...\")\n",
    "    fig = visualization.plot_embedding(adata, basis='umap', color=['total_counts', 'n_genes_by_counts'], \n",
    "                                      size=50, alpha=0.8, return_fig=True)\n",
    "    plt.show()\n",
    "except Exception as e:\n",
    "    print(f\"Error with custom UMAP visualization: {e}\")\n",
    "\n",
    "# Test heatmap visualization\n",
    "try:\n",
    "    print(\"\\nHeatmap visualization...\")\n",
    "    if 'rank_genes_groups' in adata.uns:\n",
    "        visualization.plot_heatmap(adata, n_genes=10, groupby=cluster_key, \n",
    "                                  show_gene_labels=True, dendrogram=True)\n",
    "    else:\n",
    "        print(\"No marker genes found for heatmap visualization\")\n",
    "except Exception as e:\n",
    "    print(f\"Error with heatmap visualization: {e}\")\n",
    "\n",
    "# Test dot plot visualization\n",
    "try:\n",
    "    print(\"\\nDot plot visualization...\")\n",
    "    if 'rank_genes_groups' in adata.uns:\n",
    "        visualization.plot_dotplot(adata, n_genes=5, groupby=cluster_key)\n",
    "    else:\n",
    "        print(\"No marker genes found for dot plot visualization\")\n",
    "except Exception as e:\n",
    "    print(f\"Error with dot plot visualization: {e}\")"
   ]
  },
  {
   "cell_type": "markdown",
   "metadata": {},
   "source": [
    "## Module 8: Spatial Analysis (if applicable)\n",
    "\n",
    "Test the spatial module functionality if spatial data is available."
   ]
  },
  {
   "cell_type": "code",
   "execution_count": null,
   "metadata": {},
   "source": [
    "# Check if we can load a spatial dataset for testing\n",
    "print(\"Testing spatial module...\")\n",
    "try:\n",
    "    # Try to load a sample spatial dataset\n",
    "    spatial_adata = sc.datasets.visium_sge()\n",
    "    print(f\"Loaded spatial dataset with shape: {spatial_adata.shape}\")\n",
    "    \n",
    "    # Test spatial preprocessing\n",
    "    print(\"\\nRunning spatial preprocessing...\")\n",
    "    spatial_adata = spatial.preprocess_spatial(spatial_adata)\n",
    "    \n",
    "    # Test spatial visualization\n",
    "    print(\"\\nSpatial visualization...\")\n",
    "    spatial.plot_spatial(spatial_adata, color=['total_counts'])\n",
    "    \n",
    "    # Test spatial statistics\n",
    "    print(\"\\nCalculating spatial statistics...\")\n",
    "    spatial_adata = spatial.calculate_spatial_metrics(spatial_adata)\n",
    "    print(\"Spatial metrics calculated\")\n",
    "    \n",
    "except Exception as e:\n",
    "    print(f\"Error testing spatial module: {e}\")\n",
    "    print(\"Spatial testing skipped - no suitable dataset available\")"
   ]
  },
  {
   "cell_type": "markdown",
   "metadata": {},
   "source": [
    "## Summary and Saving Results\n",
    "\n",
    "Summarize the testing results and save the processed data."
   ]
  },
  {
   "cell_type": "code",
   "execution_count": null,
   "metadata": {},
   "source": [
    "# Save the processed data\n",
    "print(\"Saving processed data...\")\n",
    "try:\n",
    "    adata.write('/tmp/adata_processed.h5ad')\n",
    "    print(\"Data saved successfully to /tmp/adata_processed.h5ad\")\n",
    "    \n",
    "    if 'spatial_adata' in locals():\n",
    "        spatial_adata.write('/tmp/spatial_adata_processed.h5ad')\n",
    "        print(\"Spatial data saved successfully to /tmp/spatial_adata_processed.h5ad\")\n",
    "except Exception as e:\n",
    "    print(f\"Error saving data: {e}\")\n",
    "\n",
    "# Print summary of testing\n",
    "print(\"\\n==== Testing Summary ====\\n\")\n",
    "print(f\"Data shape: {adata.shape}\")\n",
    "print(f\"Layers available: {list(adata.layers.keys()) if adata.layers else 'None'}\")\n",
    "print(f\"Embeddings available: {list(adata.obsm.keys())}\")\n",
    "print(f\"Observation annotations: {list(adata.obs.columns)}\")\n",
    "print(f\"Variable annotations: {list(adata.var.columns)}\")\n",
    "print(\"\\nTesting complete!\")"
   ]
  }
 ],
 "metadata": {
  "kernelspec": {
   "display_name": "Python 3",
   "language": "python",
   "name": "python3"
  },
  "language_info": {
   "codemirror_mode": {
    "name": "ipython",
    "version": 3
   },
   "file_extension": ".py",
   "mimetype": "text/x-python",
   "name": "python",
   "nbconvert_exporter": "python",
   "pygments_lexer": "ipython3",
   "version": "3.10.0"
  }
 },
 "nbformat": 4,
 "nbformat_minor": 4
}
