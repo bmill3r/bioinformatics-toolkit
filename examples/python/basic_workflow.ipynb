# Comprehensive Python Tutorial for Single-Cell and Spatial Data Analysis

This tutorial provides a step-by-step guide for analyzing single-cell and spatial transcriptomics data, from raw data to advanced visualizations using our custom toolkit.

## Table of Contents
1. [Setting Up the Environment](#1-setting-up-the-environment)
2. [Loading Different Data Types](#2-loading-different-data-types)
3. [Quality Control](#3-quality-control)
4. [Filtering and Data Preprocessing](#4-filtering-and-data-preprocessing)
5. [Normalization](#5-normalization)
6. [Feature Selection](#6-feature-selection)
7. [Dimensionality Reduction](#7-dimensionality-reduction)
8. [Visualization](#8-visualization)
9. [Spatial Data Analysis](#9-spatial-data-analysis)
10. [Saving Results and Plots](#10-saving-results-and-plots)
11. [Advanced Customization](#11-advanced-customization)
12. [Examples for Common Scenarios](#12-examples-for-common-scenarios)

## 1. Setting Up the Environment

First, let's import all necessary libraries and custom modules:

```python
import numpy as np
import pandas as pd
import matplotlib.pyplot as plt
import seaborn as sns
import scanpy as sc
import anndata as ad
from scipy import sparse
import os

# Import our custom modules
from SingleCellQC import SingleCellQC
from Normalization import Normalization
from FeatureSelection import FeatureSelection
from DimensionalityReduction import DimensionalityReduction
from EnhancedVisualization import EnhancedVisualization
from SpatialAnalysis import SpatialAnalysis

# Set random seed for reproducibility
np.random.seed(42)
sc.settings.verbosity = 1
sc.settings.set_figure_params(dpi=100, frameon=False)
```

## 2. Loading Different Data Types

### 10X Genomics Data

```python
# Initialize QC object
qc = SingleCellQC(verbose=True)

# Load 10X data (filtered_feature_bc_matrix directory)
adata = qc.load_data("path/to/filtered_feature_bc_matrix/")

# Alternatively, load a specific h5 file
# adata = qc.load_data("path/to/filtered_feature_bc_matrix.h5")

print(f"Loaded dataset with {adata.n_obs} cells and {adata.n_vars} genes")
```

### CSV/TSV Files

```python
# Load from CSV (cells as rows, genes as columns)
adata = qc.load_data("path/to/expression_matrix.csv")

# Load from TSV with transposition (if genes are rows)
adata = qc.load_data("path/to/expression_matrix.tsv", transpose=True)
```

### AnnData Objects

```python
# Load existing AnnData object
adata = sc.read_h5ad("path/to/data.h5ad")
qc.load_data(adata)
```

### Spatial Transcriptomics Data

```python
# Load 10X Visium data
adata = qc.load_data("path/to/visium_data/")

# Verify spatial coordinates are present
if 'spatial' in adata.obsm:
    print("Spatial coordinates found")
else:
    print("No spatial coordinates found")
```

## 3. Quality Control

### Calculate Basic QC Metrics

```python
# Calculate QC metrics
qc.calculate_qc_metrics(
    min_genes=200,         # Min genes per cell
    min_cells=3,           # Min cells per gene
    percent_mito='MT-',    # Mitochondrial gene prefix (human)
    # percent_mito='mt-'   # For mouse data
    percent_ribo='RP[SL]'  # Ribosomal gene pattern
)

# View QC metrics
print(qc.adata.obs[['n_genes_by_counts', 'total_counts', 'percent_mito']].describe())
```

### Visualize QC Metrics

```python
# Generate standard QC plots
qc.plot_qc_metrics(figsize=(20, 12))

# Generate interactive QC plots with Plotly
qc.plot_qc_metrics(use_plotly=True, save_path="qc_plots.html")
```

### Compute Summary Statistics

```python
# Get detailed QC stats
stats = qc.compute_summary_statistics()
print(stats)

# Save statistics to CSV
stats.to_csv("qc_statistics.csv")
```

## 4. Filtering and Data Preprocessing

### Get Recommended Filtering Thresholds

```python
# Get recommended thresholds based on distribution
thresholds = qc.get_qc_thresholds(
    n_mads=5.0,        # Number of MADs for outlier detection
    max_mito=20.0      # Max mitochondrial percentage
)

print("Recommended filtering thresholds:")
for key, value in thresholds.items():
    print(f"{key}: {value}")
```

### Filter Cells and Genes

```python
# Filter cells with automatic thresholds
qc.filter_cells()

# OR filter with custom thresholds
qc.filter_cells(
    min_genes=500,     # Minimum genes per cell
    max_genes=6000,    # Maximum genes per cell
    min_counts=1000,   # Minimum counts per cell
    max_counts=30000,  # Maximum counts per cell
    max_mito=15.0      # Maximum mitochondrial percentage
)

print(f"After filtering: {qc.adata.n_obs} cells and {qc.adata.n_vars} genes")

# Recompute QC stats after filtering
filtered_stats = qc.compute_summary_statistics()
print(filtered_stats)
```

### Visualize Post-Filtering QC

```python
# Plot QC metrics after filtering
qc.plot_qc_metrics(figsize=(20, 12), save_path="post_filter_qc.png")
```

## 5. Normalization

### Initialize Normalization Object

```python
# Initialize normalization with filtered AnnData
norm = Normalization(qc.adata)
```

### Standard Log Normalization

```python
# Perform log normalization
norm.log_norm(
    scale_factor=10000,  # Scale factor for normalization
    log_base=2,          # Base for logarithm
    inplace=True         # Modify data in place
)
```

### SCTransform (Variance Stabilizing Transformation)

```python
# Perform SCTransform normalization
try:
    norm.sctransform(inplace=True)
    print("SCTransform normalization completed")
except Exception as e:
    print(f"SCTransform failed: {e}. Falling back to log normalization.")
    norm.log_norm(inplace=True)
```

### Centered Log-Ratio Normalization (for Compositional Data)

```python
# CLR normalization (often used for CITE-seq or composition analysis)
norm.clr_norm(eps=1.0, inplace=True)
```

## 6. Feature Selection

### Initialize Feature Selection Object

```python
# Initialize feature selection with normalized AnnData
fs = FeatureSelection(norm.adata)
```

### Find Highly Variable Genes

```python
# Find highly variable genes using Seurat method
fs.find_highly_variable_genes(
    method='seurat',    # Method: 'seurat', 'cell_ranger', 'seurat_v3', 'dispersion'
    n_top_genes=2000,   # Number of HVGs to select
    min_mean=0.0125,    # Minimum mean expression
    max_mean=3,         # Maximum mean expression
    min_disp=0.5,       # Minimum dispersion
    batch_key=None,     # If you have batch information
    subset=False        # Whether to subset to HVGs immediately
)

# Plot highly variable genes
fs.plot_highly_variable_genes(save_path="hvg_plot.png")

# Get number of highly variable genes
n_hvgs = sum(fs.adata.var.highly_variable)
print(f"Selected {n_hvgs} highly variable genes")
```

### Subset to Highly Variable Genes (Optional)

```python
# Create a copy with only HVGs for dimensionality reduction
adata_hvg = fs.adata[:, fs.adata.var.highly_variable].copy()
print(f"Subset data: {adata_hvg.n_obs} cells and {adata_hvg.n_vars} genes")
```

## 7. Dimensionality Reduction

### Initialize Dimensionality Reduction Object

```python
# Initialize with processed AnnData (using the full normalized data)
dr = DimensionalityReduction(fs.adata)
```

### Run PCA

```python
# Run PCA
dr.run_pca(
    n_comps=50,                  # Number of PCs to compute
    use_highly_variable=True,    # Use only HVGs
    svd_solver='arpack',         # SVD solver
    random_state=42,             # Random seed
    return_info=False            # Return PCA info
)

# Plot PCA variance
dr.plot_pca_variance(
    n_pcs=50,                    # Number of PCs to plot
    log=False,                   # Log scale for y-axis
    threshold=0.9,               # Mark 90% variance threshold
    figsize=(12, 5),             # Figure size
    save_path="pca_variance.png" # Save path
)
```

### Compute Neighbors Graph

```python
# Compute neighbors graph (needed for UMAP and clustering)
sc.pp.neighbors(
    dr.adata, 
    n_neighbors=15,    # Number of neighbors
    n_pcs=30,          # Number of PCs to use
    metric='euclidean' # Distance metric
)
```

### Run UMAP

```python
# Run UMAP
dr.run_umap(
    n_components=2,    # Output dimensions
    min_dist=0.3,      # Minimum distance between points
    spread=1.0,        # Spread of the embedding
    n_neighbors=15,    # Number of neighbors
    random_state=42    # Random seed
)
```

### Run t-SNE (Optional)

```python
# Run t-SNE
dr.run_tsne(
    n_components=2,         # Output dimensions
    perplexity=30.0,        # Perplexity
    learning_rate=200.0,    # Learning rate
    random_state=42,        # Random seed
    n_jobs=8                # Parallel jobs
)
```

## 8. Visualization

### Initialize Enhanced Visualization

```python
# Initialize with processed AnnData
viz = EnhancedVisualization(dr.adata)
```

### Create UMAP Visualization

```python
# Plot UMAP colored by QC metrics
viz.scatter(
    x='X_umap-0',              # UMAP first dimension
    y='X_umap-1',              # UMAP second dimension  
    color='n_genes_by_counts', # Color by this variable
    title='UMAP - Genes per Cell',
    cmap='viridis',            # Colormap
    size=5.0,                  # Point size
    alpha=0.7,                 # Opacity
    save_path="umap_genes.png" # Save path
)

# Plot UMAP colored by mitochondrial percentage
viz.scatter(
    x='X_umap-0', 
    y='X_umap-1',
    color='percent_mito',
    title='UMAP - Mitochondrial Percentage',
    cmap='Reds',
    size=5.0,
    alpha=0.7,
    save_path="umap_mito.png"
)
```

### Visualize Gene Expression

```python
# Plot expression of a specific gene on UMAP
viz.scatter(
    x='X_umap-0',
    y='X_umap-1',
    color='GAPDH',           # Gene name
    title='GAPDH Expression',
    cmap='plasma',
    size=5.0,
    alpha=0.7,
    save_path="umap_gapdh.png"
)

# Plot multiple genes side by side
genes_to_plot = ['GAPDH', 'ACTB', 'CD4', 'CD8A']

fig, axs = plt.subplots(2, 2, figsize=(15, 12))
axs = axs.flatten()

for i, gene in enumerate(genes_to_plot):
    if gene in dr.adata.var_names:
        viz.scatter(
            x='X_umap-0',
            y='X_umap-1',
            color=gene,
            title=f'{gene} Expression',
            cmap='viridis',
            size=4.0,
            alpha=0.7,
            ax=axs[i]
        )
    else:
        axs[i].text(0.5, 0.5, f'Gene {gene} not found', 
                   ha='center', va='center', fontsize=12)
        axs[i].set_title(f'{gene} - Not Found')

plt.tight_layout()
plt.savefig("multi_gene_umap.png", dpi=300, bbox_inches='tight')
plt.close()
```

### Fast Visualization for Large Datasets

```python
# Fast scatter plot for large datasets using datashader
try:
    viz.scatter_fast(
        x='X_umap-0',
        y='X_umap-1',
        color='n_genes_by_counts',
        title='UMAP - Genes per Cell (Fast Rendering)',
        colormap='viridis',
        width=900,
        height=700,
        save_path="umap_fast.html"
    )
except Exception as e:
    print(f"Fast plotting failed: {e}. Install datashader for fast plotting.")
```

### Customized Plots

```python
# Create a base plot that we'll customize
fig, ax = plt.subplots(figsize=(10, 8))

# Generate basic scatter plot
viz.scatter(
    x='X_umap-0',
    y='X_umap-1',
    color='total_counts',
    cmap='viridis',
    size=5.0,
    alpha=0.7,
    return_ax=True,
    ax=ax
)

# Customize the plot
ax.set_title('Customized UMAP Plot', fontsize=16, fontweight='bold')
ax.set_xlabel('UMAP Dimension 1', fontsize=14)
ax.set_ylabel('UMAP Dimension 2', fontsize=14)

# Add text annotation
ax.text(0.05, 0.95, f'n_cells: {dr.adata.n_obs}',
       transform=ax.transAxes, fontsize=12,
       verticalalignment='top', bbox=dict(boxstyle='round', alpha=0.1))

# Add grid
ax.grid(True, linestyle='--', alpha=0.5)

# Save the customized plot
plt.savefig("customized_umap.png", dpi=300, bbox_inches='tight')
plt.close()
```

## 9. Spatial Data Analysis

### Initialize Spatial Analysis

```python
# Check if spatial coordinates exist
if 'spatial' in dr.adata.obsm:
    # Initialize spatial analysis
    spatial = SpatialAnalysis(
        dr.adata,
        spatial_key='spatial',   # Key in obsm with spatial coordinates
        x_coord='x',            # Alternative: column in obs with x coords
        y_coord='y'             # Alternative: column in obs with y coords
    )
    print("Spatial analysis initialized")
else:
    print("No spatial coordinates found. Skipping spatial analysis.")
    # For demonstration, let's continue as if we had spatial data
    # In a real scenario, you would skip this section if no spatial data exists
```

### Visualize Gene Expression in Space

```python
# Visualize expression of a single gene
spatial.plot_spatial_gene_expression(
    genes='GAPDH',
    figsize=(8, 7),
    cmap='viridis',
    size=10.0,
    show_colorbar=True,
    save_path="spatial_gapdh.png"
)

# Visualize expression of multiple genes
gene_list = ['GAPDH', 'ACTB', 'CD4', 'CD8A']
spatial.plot_spatial_gene_expression(
    genes=gene_list,
    ncols=2,               # Number of columns in grid layout
    figsize=(15, 12),
    cmap='plasma',
    size=8.0,
    title_fontsize=12,
    show_colorbar=True,
    save_path="spatial_multi_gene.png"
)

# Visualize QC metrics in space
qc_metrics = ['total_counts', 'n_genes_by_counts', 'percent_mito']
spatial.plot_spatial_gene_expression(
    genes=qc_metrics,
    ncols=3,
    figsize=(18, 6),
    cmap='viridis',
    size=8.0,
    title_fontsize=12,
    show_colorbar=True,
    save_path="spatial_qc_metrics.png"
)
```

### Create Spatial Bins

```python
# Create spatial bins
binned_adata = spatial.create_spatial_grid(
    bin_size=100.0,         # Size of square bins
    aggr_func='mean',       # Aggregation function: 'mean', 'sum', 'median', 'max'
    min_cells=5,            # Minimum cells per bin
    genes=None              # Specific genes to include, or None for all
)

print(f"Created {binned_adata.n_obs} spatial bins")

# Visualize the binned data
spatial_binned = SpatialAnalysis(binned_adata)
spatial_binned.plot_spatial_gene_expression(
    genes=['GAPDH', 'n_cells'],
    ncols=2,
    figsize=(15, 7),
    cmap='viridis',
    size=30.0,  # Larger points for bins
    title_fontsize=12,
    show_colorbar=True,
    save_path="spatial_binned.png"
)
```

### Calculate Spatial Statistics

```python
# Calculate Moran's I spatial autocorrelation
try:
    moran_results = spatial.calculate_moran_i(
        genes=None,           # All genes
        max_genes=500,        # Limit for computational efficiency
        n_jobs=4              # Parallel jobs
    )
    
    # Display top spatially autocorrelated genes
    print("Top spatially autocorrelated genes:")
    print(moran_results.head(10))
    
    # Save results
    moran_results.to_csv("moran_i_results.csv")
    
    # Plot top spatially autocorrelated genes
    top_spatial_genes = moran_results.head(4)['gene'].tolist()
    spatial.plot_spatial_gene_expression(
        genes=top_spatial_genes,
        ncols=2,
        figsize=(15, 12),
        cmap='viridis',
        size=10.0,
        title_fontsize=12,
        show_colorbar=True,
        save_path="top_spatial_genes.png"
    )
except Exception as e:
    print(f"Moran's I calculation failed: {e}")
```

### Analyze Negative Control Probes (if present)

```python
# Check if negative probes exist
if any(gene.startswith('Negative') for gene in dr.adata.var_names):
    try:
        # Analyze negative probes
        neg_stats = spatial.analyze_negative_probes(
            prefix='Negative',    # Prefix for negative probes
            bin_size=100.0        # Optional: analyze in spatial bins
        )
        
        print("Negative probe statistics:")
        print(neg_stats.describe())
        
        # Save results
        neg_stats.to_csv("negative_probe_stats.csv")
        
        # Visualize negative probe metrics
        fig, axes = plt.subplots(1, 3, figsize=(18, 6))
        
        # Mean of negative probes
        scatter = axes[0].scatter(
            neg_stats['x'], neg_stats['y'],
            c=neg_stats['negative_mean'],
            cmap='viridis',
            s=30, alpha=0.8
        )
        axes[0].set_title('Mean of Negative Probes')
        axes[0].set_xlabel('X coordinate')
        axes[0].set_ylabel('Y coordinate')
        plt.colorbar(scatter, ax=axes[0])
        
        # Sum of negative probes
        scatter = axes[1].scatter(
            neg_stats['x'], neg_stats['y'],
            c=neg_stats['negative_sum'],
            cmap='viridis',
            s=30, alpha=0.8
        )
        axes[1].set_title('Sum of Negative Probes')
        axes[1].set_xlabel('X coordinate')
        plt.colorbar(scatter, ax=axes[1])
        
        # Coefficient of variation of negative probes
        scatter = axes[2].scatter(
            neg_stats['x'], neg_stats['y'],
            c=neg_stats['negative_cv'],
            cmap='viridis',
            s=30, alpha=0.8
        )
        axes[2].set_title('CV of Negative Probes')
        axes[2].set_xlabel('X coordinate')
        plt.colorbar(scatter, ax=axes[2])
        
        plt.tight_layout()
        plt.savefig("negative_probe_spatial.png", dpi=300, bbox_inches='tight')
        plt.close()
        
    except Exception as e:
        print(f"Negative probe analysis failed: {e}")
else:
    print("No negative probes found in the dataset")
```

## 10. Saving Results and Plots

### Save Final AnnData Object

```python
# Save the processed AnnData object
dr.adata.write("processed_data.h5ad")
print("Saved processed data to processed_data.h5ad")

# Save just the UMAP embedding as CSV
umap_df = pd.DataFrame(
    dr.adata.obsm['X_umap'],
    index=dr.adata.obs_names,
    columns=['UMAP1', 'UMAP2']
)
umap_df.to_csv("umap_coordinates.csv")

# Save QC metrics as CSV
qc_df = dr.adata.obs[['n_genes_by_counts', 'total_counts', 'percent_mito']]
qc_df.to_csv("qc_metrics.csv")
```

### Advanced Plot Saving

```python
# Save high-resolution figures for publication
plt.rcParams['svg.fonttype'] = 'none'  # For editable text in SVG

# Generate UMAP for publication
fig, ax = plt.subplots(figsize=(8, 7), dpi=300)
viz.scatter(
    x='X_umap-0',
    y='X_umap-1',
    color='total_counts',
    cmap='viridis',
    size=3.0,
    alpha=0.7,
    ax=ax
)
ax.set_title('UMAP - Total Counts', fontsize=14)
ax.set_xlabel('UMAP1', fontsize=12)
ax.set_ylabel('UMAP2', fontsize=12)

# Save in multiple formats
plt.savefig("publication_umap.png", dpi=600, bbox_inches='tight')
plt.savefig("publication_umap.svg", format='svg', bbox_inches='tight')
plt.savefig("publication_umap.pdf", format='pdf', bbox_inches='tight')
plt.close()
```

## 11. Advanced Customization

### Customizing Standard Plots

```python
# Start with a basic QC violin plot
sc.pl.violin(dr.adata, ['n_genes_by_counts', 'total_counts', 'percent_mito'],
            jitter=0.4, multi_panel=True, show=False)

# Get the current figure and customize it
fig = plt.gcf()
fig.set_size_inches(15, 5)
axes = fig.get_axes()

# Customize each axis
for i, ax in enumerate(axes):
    if i == 0:
        ax.set_title('Genes per Cell', fontsize=14, fontweight='bold')
        ax.set_ylabel('Count', fontsize=12)
    elif i == 1:
        ax.set_title('UMI Counts per Cell', fontsize=14, fontweight='bold')
        ax.set_ylabel('Count', fontsize=12)
    elif i == 2:
        ax.set_title('Mitochondrial Content (%)', fontsize=14, fontweight='bold')
        ax.set_ylabel('Percentage', fontsize=12)
    
    # Style improvements
    ax.spines['top'].set_visible(False)
    ax.spines['right'].set_visible(False)
    ax.tick_params(axis='both', which='major', labelsize=10)

plt.tight_layout()
plt.savefig("customized_violins.png", dpi=300, bbox_inches='tight')
plt.close()
```

### Creating Complex Multi-Panel Figures

```python
# Create a composite figure with different visualizations
fig = plt.figure(figsize=(20, 15))

# Define grid layout
gs = fig.add_gridspec(3, 3)

# UMAP colored by total counts
ax1 = fig.add_subplot(gs[0, 0])
viz.scatter(
    x='X_umap-0', y='X_umap-1', 
    color='total_counts', 
    cmap='viridis', size=2.0, alpha=0.7, ax=ax1
)
ax1.set_title('Total Counts', fontsize=12)

# UMAP colored by genes per cell
ax2 = fig.add_subplot(gs[0, 1])
viz.scatter(
    x='X_umap-0', y='X_umap-1', 
    color='n_genes_by_counts', 
    cmap='plasma', size=2.0, alpha=0.7, ax=ax2
)
ax2.set_title('Genes per Cell', fontsize=12)

# UMAP colored by mitochondrial percentage
ax3 = fig.add_subplot(gs[0, 2])
viz.scatter(
    x='X_umap-0', y='X_umap-1', 
    color='percent_mito', 
    cmap='Reds', size=2.0, alpha=0.7, ax=ax3
)
ax3.set_title('Mitochondrial Content (%)', fontsize=12)

# Gene expression: first gene
gene1 = 'GAPDH'
if gene1 in dr.adata.var_names:
    ax4 = fig.add_subplot(gs[1, 0])
    viz.scatter(
        x='X_umap-0', y='X_umap-1', 
        color=gene1, 
        cmap='viridis', size=2.0, alpha=0.7, ax=ax4
    )
    ax4.set_title(f'{gene1} Expression', fontsize=12)

# Gene expression: second gene
gene2 = 'ACTB'
if gene2 in dr.adata.var_names:
    ax5 = fig.add_subplot(gs[1, 1])
    viz.scatter(
        x='X_umap-0', y='X_umap-1', 
        color=gene2, 
        cmap='viridis', size=2.0, alpha=0.7, ax=ax5
    )
    ax5.set_title(f'{gene2} Expression', fontsize=12)

# Violin plots for QC metrics
ax6 = fig.add_subplot(gs[1:, 2])
sc.pl.violin(dr.adata, ['n_genes_by_counts', 'total_counts', 'percent_mito'],
            jitter=0.4, multi_panel=False, ax=ax6, show=False)
ax6.set_title('QC Metrics Distribution', fontsize=14)

# Spatial plot (if available)
if 'spatial' in dr.adata.obsm:
    ax7 = fig.add_subplot(gs[2, 0:2])
    if gene1 in dr.adata.var_names:
        gene_expr = dr.adata[:, gene1].X
        if sparse.issparse(gene_expr):
            gene_expr = gene_expr.toarray().flatten()
        coords = dr.adata.obsm['spatial']
        scatter = ax7.scatter(
            coords[:, 0], coords[:, 1],
            c=gene_expr, cmap='viridis', s=5, alpha=0.8
        )
        ax7.set_title(f'Spatial Distribution of {gene1}', fontsize=14)
        ax7.set_xlabel('X coordinate', fontsize=12)
        ax7.set_ylabel('Y coordinate', fontsize=12)
        plt.colorbar(scatter, ax=ax7, shrink=0.7)

plt.tight_layout()
plt.savefig("composite_figure.png", dpi=300, bbox_inches='tight')
plt.close()
```

## 12. Examples for Common Scenarios

### Scenario 1: Basic QC and UMAP Workflow

```python
# Quick workflow for standard analysis
def quick_workflow(data_path, sample_name="sample"):
    """Run a quick standard workflow and save results"""
    # Initialize and load data
    qc = SingleCellQC()
    adata = qc.load_data(data_path)
    
    # QC and filtering
    qc.calculate_qc_metrics()
    qc.plot_qc_metrics(save_path=f"{sample_name}_qc_initial.png")
    qc.filter_cells()
    
    # Normalization and feature selection
    norm = Normalization(qc.adata)
    norm.log_norm()
    fs = FeatureSelection(norm.adata)
    fs.find_highly_variable_genes()
    
    # Dimensionality reduction
    dr = DimensionalityReduction(fs.adata)
    dr.run_pca()
    sc.pp.neighbors(dr.adata, n_neighbors=15, n_pcs=30)
    dr.run_umap()
    
    # Basic visualization
    viz = EnhancedVisualization(dr.adata)
    viz.scatter(x='X_umap-0', y='X_umap-1', color='n_genes_by_counts',
               save_path=f"{sample_name}_umap_genes.png")
    viz.scatter(x='X_umap-0', y='X_umap-1', color='percent_mito',
               save_path=f"{sample_name}_umap_mito.png")
    
    # Save results
    dr.adata.write(f"{sample_name}_processed.h5ad")
    
    return dr.adata

# Example usage:
# processed_data = quick_workflow("path/to/data", "pbmc")
```

### Scenario 2: Spatial Data Quick Analysis

```python
